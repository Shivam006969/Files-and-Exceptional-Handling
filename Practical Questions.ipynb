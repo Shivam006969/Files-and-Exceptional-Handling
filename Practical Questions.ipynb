{
 "cells": [
  {
   "cell_type": "markdown",
   "id": "dc819aea-c520-49a0-bb0e-e6401bed3e98",
   "metadata": {},
   "source": [
    "### 1. How can you open a file for writing in Python and write a string to it?"
   ]
  },
  {
   "cell_type": "code",
   "execution_count": 4,
   "id": "d11041d1-abd0-4c3f-a6c6-8c999940a97a",
   "metadata": {},
   "outputs": [],
   "source": [
    "file = open(\"Readme.txt\", \"w\")\n",
    "file.write(\"This is my first string in the file.\")\n",
    "file.close()"
   ]
  },
  {
   "cell_type": "markdown",
   "id": "4803d0f6-33d5-4389-958b-b7962e57f4af",
   "metadata": {},
   "source": [
    "### 2. Write a Python program to read the contents of a file and print each line."
   ]
  },
  {
   "cell_type": "code",
   "execution_count": 7,
   "id": "8c49ce9e-67dc-45bc-83b4-8271049b2f5e",
   "metadata": {},
   "outputs": [
    {
     "name": "stdout",
     "output_type": "stream",
     "text": [
      "This is my first string in the file.\n"
     ]
    }
   ],
   "source": [
    "file = open(\"Readme.txt\", \"r\")\n",
    "for i in file:\n",
    "    print(i)"
   ]
  },
  {
   "cell_type": "markdown",
   "id": "7af516a1-1e14-4f86-9756-76156bf93f27",
   "metadata": {},
   "source": [
    "### 3. How would you handle a case where the file doesn't exist while trying to open it for reading?"
   ]
  },
  {
   "cell_type": "code",
   "execution_count": 3,
   "id": "af33454e-d42f-4f5e-b4d8-6ccc517b4436",
   "metadata": {},
   "outputs": [
    {
     "name": "stdout",
     "output_type": "stream",
     "text": [
      "Error: The file doesn't exist. Please check the file name and path.\n"
     ]
    }
   ],
   "source": [
    "try:\n",
    "    file = open(\"file_not_present.txt\", 'r')\n",
    "    file.seek(0)\n",
    "    print(file.read())\n",
    "except FileNotFoundError:\n",
    "    print(\"Error: The file doesn't exist. Please check the file name and path.\")"
   ]
  },
  {
   "cell_type": "markdown",
   "id": "d73dcaeb-1163-4e69-a64d-b5ab6920dd34",
   "metadata": {},
   "source": [
    "### 4. Write a Python script that reads from one file and writes its content to another file."
   ]
  },
  {
   "cell_type": "code",
   "execution_count": 1,
   "id": "4407f1e6-4940-4f86-a9f5-1fc96d5d07af",
   "metadata": {},
   "outputs": [
    {
     "name": "stdout",
     "output_type": "stream",
     "text": [
      "Content successfully copied from source.txt to destination.txt\n"
     ]
    }
   ],
   "source": [
    "input_file = \"source.txt\"  # File to read from\n",
    "output_file = \"destination.txt\"  # File to write to\n",
    "\n",
    "try:\n",
    "    # Open the source file for reading\n",
    "    with open(input_file, \"r\") as source:\n",
    "        content = source.read()  # Read the file content\n",
    "\n",
    "    # Open the destination file for writing\n",
    "    with open(output_file, \"w\") as destination:\n",
    "        destination.write(content)  # Write the content to the new file\n",
    "    \n",
    "    print(f\"Content successfully copied from {input_file} to {output_file}\")\n",
    "except FileNotFoundError:\n",
    "    print(f\"Error: {input_file} does not exist. Please check the file name and path.\")\n",
    "except Exception as e:\n",
    "    print(f\"An error occurred: {e}\")"
   ]
  },
  {
   "cell_type": "markdown",
   "id": "94365871-afd5-496d-acc6-ee638ad7be60",
   "metadata": {},
   "source": [
    "### 5. How would you catch and handle division by zero error in Python?"
   ]
  },
  {
   "cell_type": "code",
   "execution_count": 4,
   "id": "d2a918e4-cd0c-4384-9d04-1877bfb9b08d",
   "metadata": {},
   "outputs": [
    {
     "name": "stdout",
     "output_type": "stream",
     "text": [
      "Error: Division by zero is not allowed.\n",
      "Execution completed.\n"
     ]
    }
   ],
   "source": [
    "try:\n",
    "    numerator = 10\n",
    "    denominator = 0\n",
    "    result = numerator / denominator  # This will raise ZeroDivisionError\n",
    "except ZeroDivisionError:\n",
    "    print(\"Error: Division by zero is not allowed.\")\n",
    "else:\n",
    "    print(\"Result:\", result)  # Runs if no exception occurs\n",
    "finally:\n",
    "    print(\"Execution completed.\")  # Runs no matter what"
   ]
  },
  {
   "cell_type": "markdown",
   "id": "7959bc69-5e74-4018-ad2d-d7ae74a483bf",
   "metadata": {},
   "source": [
    "### 6. Write a Python program that logs an error message to a log file when a division by zero exception occurs."
   ]
  },
  {
   "cell_type": "code",
   "execution_count": 1,
   "id": "ed40b382-0013-4367-a9ba-58f1fc1d7bad",
   "metadata": {},
   "outputs": [
    {
     "name": "stdout",
     "output_type": "stream",
     "text": [
      "An error occurred. Check the log file for details.\n"
     ]
    }
   ],
   "source": [
    "import logging\n",
    "\n",
    "# Configure logging to write to a file\n",
    "logging.basicConfig(filename='error.log', level=logging.ERROR,\n",
    "                    format='%(asctime)s - %(levelname)s - %(message)s')\n",
    "\n",
    "def divide_numbers(numerator, denominator):\n",
    "    try:\n",
    "        result = numerator / denominator\n",
    "        return result\n",
    "    except ZeroDivisionError:\n",
    "        logging.error(\"Attempted to divide by zero.\")\n",
    "        return None\n",
    "\n",
    "# Example usage\n",
    "num = 10\n",
    "denom = 0\n",
    "result = divide_numbers(num, denom)\n",
    "\n",
    "if result is not None:\n",
    "    print(f\"Result: {result}\")\n",
    "else:\n",
    "    print(\"An error occurred. Check the log file for details.\")"
   ]
  },
  {
   "cell_type": "markdown",
   "id": "6141527c-7aba-43c0-a5df-62fb2690aaac",
   "metadata": {},
   "source": [
    "### 7. How do you log information at different levels (INFO, ERROR, WARNING) in Python using the logging module?"
   ]
  },
  {
   "cell_type": "markdown",
   "id": "265ed22f-4285-4af3-95af-5ee417324a78",
   "metadata": {},
   "source": [
    "Python's `logging` module provides a flexible way to track events at different severity levels. We can use the following levels:\n",
    "\n",
    "- **DEBUG**: Detailed information for diagnosing problems.\n",
    "- **INFO**: Confirmation that things are working as expected.\n",
    "- **WARNING**: Something unexpected happened, but the program is still running.\n",
    "- **ERROR**: A serious problem that prevents the program from continuing.\n",
    "- **CRITICAL**: A critical error causing the program to crash."
   ]
  },
  {
   "cell_type": "code",
   "execution_count": 3,
   "id": "cc71d4ae-2c1f-4805-b1bd-fb019950d0d8",
   "metadata": {},
   "outputs": [
    {
     "name": "stderr",
     "output_type": "stream",
     "text": [
      "DEBUG: This is a DEBUG message\n",
      "INFO: This is an INFO message\n",
      "WARNING: This is a WARNING message\n",
      "ERROR: This is an ERROR message\n",
      "CRITICAL: This is a CRITICAL message\n"
     ]
    }
   ],
   "source": [
    "import logging\n",
    "\n",
    "# Configure logging\n",
    "logging.basicConfig(level=logging.DEBUG, format='%(levelname)s: %(message)s')\n",
    "\n",
    "# Logging messages\n",
    "logging.debug(\"This is a DEBUG message\")\n",
    "logging.info(\"This is an INFO message\")\n",
    "logging.warning(\"This is a WARNING message\")\n",
    "logging.error(\"This is an ERROR message\")\n",
    "logging.critical(\"This is a CRITICAL message\")"
   ]
  },
  {
   "cell_type": "markdown",
   "id": "76a07146-34ac-4f39-aaf4-40d613373098",
   "metadata": {},
   "source": [
    "### 8. Write a program to handle a file opening error using exception handling."
   ]
  },
  {
   "cell_type": "code",
   "execution_count": 6,
   "id": "e507f37f-a423-4588-b9e6-21224a83331a",
   "metadata": {},
   "outputs": [
    {
     "name": "stdout",
     "output_type": "stream",
     "text": [
      "Error: The file was not found. Please check the filename and try again.\n"
     ]
    }
   ],
   "source": [
    "try:\n",
    "    # Attempting to open a file that may not exist\n",
    "    with open(\"non_existent_file.txt\", \"r\") as file:\n",
    "        content = file.read()\n",
    "        print(content)\n",
    "except FileNotFoundError:\n",
    "    print(\"Error: The file was not found. Please check the filename and try again.\")\n",
    "except Exception as e:\n",
    "    print(f\"An unexpected error occurred: {e}\")"
   ]
  },
  {
   "cell_type": "markdown",
   "id": "be6d87fd-7c53-41d1-8f67-29e4a9741fa3",
   "metadata": {},
   "source": [
    "### 9. How can you read a file line by line and store its content in a list in Python?"
   ]
  },
  {
   "cell_type": "code",
   "execution_count": 9,
   "id": "53f81951-25db-4054-a693-3a7adf9beb04",
   "metadata": {},
   "outputs": [
    {
     "name": "stdout",
     "output_type": "stream",
     "text": [
      "['example 1 \\n', 'example 2\\n', 'example 3\\n', 'example 4']\n"
     ]
    }
   ],
   "source": [
    "# Open the file and read lines into a list\n",
    "try:\n",
    "    with open(\"example.txt\", \"r\") as file:\n",
    "        lines = file.readlines()  # Reads all lines and stores them in a list\n",
    "    \n",
    "    # Print the list\n",
    "    print(lines)\n",
    "\n",
    "except FileNotFoundError:\n",
    "    print(\"Error: The file does not exist. Please check the filename.\")\n",
    "except Exception as e:\n",
    "    print(f\"An unexpected error occurred: {e}\")"
   ]
  },
  {
   "cell_type": "markdown",
   "id": "8c94a182-402d-434d-a7d5-087761800969",
   "metadata": {},
   "source": [
    "### 10. How can you append data to an existing file in Python?"
   ]
  },
  {
   "cell_type": "code",
   "execution_count": 13,
   "id": "6c7bdc6e-1d95-477e-96c6-1b3f64e328c4",
   "metadata": {},
   "outputs": [],
   "source": [
    "# Open the file in append mode\n",
    "with open(\"example.txt\", \"a\") as file:\n",
    "    file.write(\"\\nThis is a new line added to the file.\")"
   ]
  },
  {
   "cell_type": "code",
   "execution_count": null,
   "id": "20a29c50-16ef-4398-9d54-2a3ec7db5b55",
   "metadata": {},
   "outputs": [],
   "source": []
  }
 ],
 "metadata": {
  "kernelspec": {
   "display_name": "Python 3 (ipykernel)",
   "language": "python",
   "name": "python3"
  },
  "language_info": {
   "codemirror_mode": {
    "name": "ipython",
    "version": 3
   },
   "file_extension": ".py",
   "mimetype": "text/x-python",
   "name": "python",
   "nbconvert_exporter": "python",
   "pygments_lexer": "ipython3",
   "version": "3.12.7"
  }
 },
 "nbformat": 4,
 "nbformat_minor": 5
}
