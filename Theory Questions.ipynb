{
 "cells": [
  {
   "cell_type": "markdown",
   "id": "2a57acfe-9383-4ddf-be23-c23aeadd62ea",
   "metadata": {},
   "source": [
    "### 1. What is the difference between interpreted and compiled languages?"
   ]
  },
  {
   "cell_type": "markdown",
   "id": "f45993da-96b1-49c6-ab65-b6a13a99b747",
   "metadata": {},
   "source": [
    "- **Interpreted Languages:** Code is executed line by line by an interpreter at runtime (e.g., Python, JavaScript). They are generally slower but more flexible, with easier debugging.\n",
    "- **Compiled Languages:** Code is translated into machine code **before** execution using a compiler (e.g., C, C++). They are faster but require compilation before running."
   ]
  },
  {
   "cell_type": "markdown",
   "id": "2c104781-751c-46e6-8d4e-06557af6d500",
   "metadata": {},
   "source": [
    "### 2. What is exception handling in Python?"
   ]
  },
  {
   "cell_type": "markdown",
   "id": "32d7799d-2a89-4311-895f-2588df17158a",
   "metadata": {},
   "source": [
    "Exception handling lets programs deal with unexpected errors **gracefully**. Python uses `try`, `except`, `else`, and `finally` blocks to handle exceptions without crashing."
   ]
  },
  {
   "cell_type": "code",
   "execution_count": 2,
   "id": "daa18e81-ecbe-4373-b480-3bc39c607ee2",
   "metadata": {},
   "outputs": [
    {
     "name": "stdout",
     "output_type": "stream",
     "text": [
      "division by zero\n"
     ]
    }
   ],
   "source": [
    "try:\n",
    "    5/0\n",
    "except Exception as e:\n",
    "    print(e)"
   ]
  },
  {
   "cell_type": "markdown",
   "id": "ddd2d71f-1d0d-4fc1-91f1-ea59d77ac7a9",
   "metadata": {},
   "source": [
    "### 3. What is the purpose of the finally block in exception handling?"
   ]
  },
  {
   "cell_type": "markdown",
   "id": "72136115-8ed1-4e00-83d3-9bdf6f2ec5f1",
   "metadata": {},
   "source": [
    "Regardless of whether an exception occurs, the `finally` block **always executes**. It's useful for cleanup actions like **closing files, releasing resources, or terminating connections**."
   ]
  },
  {
   "cell_type": "markdown",
   "id": "4c9b4753-f175-4765-b2f8-03793801d023",
   "metadata": {},
   "source": [
    "### 4. What is logging in Python?"
   ]
  },
  {
   "cell_type": "markdown",
   "id": "211b318f-00a2-42f9-a87c-0fd118c495e8",
   "metadata": {},
   "source": [
    "Python’s `logging` module allows you to track events in an application, such as errors or important system messages. It's **better than print statements** since it offers levels like `DEBUG`, `INFO`, `WARNING`, `ERROR`, and `CRITICAL`."
   ]
  },
  {
   "cell_type": "code",
   "execution_count": 7,
   "id": "234db4bc-efd1-41e4-aba7-f9bf64bc15f8",
   "metadata": {},
   "outputs": [
    {
     "name": "stderr",
     "output_type": "stream",
     "text": [
      "INFO:root:This is an informational message.\n",
      "WARNING:root:This is a warning message.\n",
      "ERROR:root:This is an error message.\n"
     ]
    }
   ],
   "source": [
    "import logging\n",
    "\n",
    "logging.basicConfig(level=logging.INFO)  # Set logging level\n",
    "logging.info(\"This is an informational message.\")\n",
    "logging.warning(\"This is a warning message.\")\n",
    "logging.error(\"This is an error message.\")"
   ]
  },
  {
   "cell_type": "markdown",
   "id": "3434e1bb-89e8-4127-8458-f221b4bd7a72",
   "metadata": {},
   "source": [
    "### 5. What is the significance of the __del__ method in Python?"
   ]
  },
  {
   "cell_type": "markdown",
   "id": "ecc37a57-511a-4f6d-8831-b74259cbccee",
   "metadata": {},
   "source": [
    "The `__del__` method in Python is a **destructor**, which gets called when an object is about to be destroyed. It's typically used to free up resources, but relying on it for critical cleanup is **risky**, since garbage collection timing isn't guaranteed."
   ]
  },
  {
   "cell_type": "code",
   "execution_count": 10,
   "id": "7cb87ff0-6cf9-4ce1-8954-a5a3cf53a8a8",
   "metadata": {},
   "outputs": [
    {
     "name": "stdout",
     "output_type": "stream",
     "text": [
      "Object created.\n",
      "Object deleted.\n"
     ]
    }
   ],
   "source": [
    "class Test:\n",
    "    def __init__(self):\n",
    "        print(\"Object created.\")\n",
    "\n",
    "    def __del__(self):\n",
    "        print(\"Object deleted.\")\n",
    "\n",
    "obj = Test()  \n",
    "del obj"
   ]
  },
  {
   "cell_type": "markdown",
   "id": "c1659047-8056-4ea6-adb6-19bdfe449c7d",
   "metadata": {},
   "source": [
    "### 6. What is the difference between import and from ... import in Python?"
   ]
  },
  {
   "cell_type": "markdown",
   "id": "e58f685f-0137-4195-86c3-dfced74d0e74",
   "metadata": {},
   "source": [
    "- **`import module`**: Imports the entire module, requiring us to use the module name as a prefix."
   ]
  },
  {
   "cell_type": "code",
   "execution_count": 19,
   "id": "85311e7a-67e7-4700-90d2-9c2eca20f00e",
   "metadata": {},
   "outputs": [
    {
     "name": "stdout",
     "output_type": "stream",
     "text": [
      "4.0\n"
     ]
    }
   ],
   "source": [
    "import math\n",
    "print(math.sqrt(16))  # Using module name"
   ]
  },
  {
   "cell_type": "markdown",
   "id": "93c0ebeb-bb5b-47f2-b4b8-136b785ccfed",
   "metadata": {},
   "source": [
    "- **`from module import something`**: Imports specific elements from a module, making them usable directly."
   ]
  },
  {
   "cell_type": "code",
   "execution_count": 22,
   "id": "d8051a34-18f1-409a-aa08-96197965ed1e",
   "metadata": {},
   "outputs": [
    {
     "name": "stdout",
     "output_type": "stream",
     "text": [
      "4.0\n"
     ]
    }
   ],
   "source": [
    "from math import sqrt\n",
    "print(sqrt(16))  # No need for \"math.\""
   ]
  },
  {
   "cell_type": "markdown",
   "id": "711ded0d-a030-47ec-afad-5a7d3d6dfab9",
   "metadata": {},
   "source": [
    "### 7. How can you handle multiple exceptions in Python?"
   ]
  },
  {
   "cell_type": "markdown",
   "id": "b4c1df1d-1ffc-4adb-87d6-56118e1b797f",
   "metadata": {},
   "source": [
    "Python lets us handle multiple exceptions in several ways:\n",
    "- **Using multiple `except` blocks**:"
   ]
  },
  {
   "cell_type": "code",
   "execution_count": 25,
   "id": "480a5623-c655-485f-b5d7-85bf7391efad",
   "metadata": {},
   "outputs": [
    {
     "name": "stdin",
     "output_type": "stream",
     "text": [
      "Enter a number:  h\n"
     ]
    },
    {
     "name": "stdout",
     "output_type": "stream",
     "text": [
      "Invalid input! Please enter a number.\n"
     ]
    }
   ],
   "source": [
    "try:\n",
    "    num = int(input(\"Enter a number: \"))\n",
    "    result = 10 / num\n",
    "except ValueError:\n",
    "    print(\"Invalid input! Please enter a number.\")\n",
    "except ZeroDivisionError:\n",
    "    print(\"Cannot divide by zero!\")"
   ]
  },
  {
   "cell_type": "markdown",
   "id": "1425a072-14c6-4b60-86ba-7daa7b5274e7",
   "metadata": {},
   "source": [
    "- **Using a single `except` block for multiple exceptions**:"
   ]
  },
  {
   "cell_type": "code",
   "execution_count": 28,
   "id": "61e4b26b-066d-43c3-945b-5a81034bb141",
   "metadata": {},
   "outputs": [
    {
     "name": "stdout",
     "output_type": "stream",
     "text": [
      "Caught a ValueError or TypeError!\n"
     ]
    }
   ],
   "source": [
    "try:\n",
    "    x = int(\"hello\")\n",
    "except (ValueError, TypeError):\n",
    "    print(\"Caught a ValueError or TypeError!\")"
   ]
  },
  {
   "cell_type": "markdown",
   "id": "da125264-b24a-4869-9c18-58bb5372e07e",
   "metadata": {},
   "source": [
    "### 8. What is the purpose of the with statement when handling files in Python?"
   ]
  },
  {
   "cell_type": "markdown",
   "id": "df90197b-6a64-4ed0-b0aa-b5b0bd32f363",
   "metadata": {},
   "source": [
    "The `with` statement ensures proper resource management, automatically closing files after use."
   ]
  },
  {
   "cell_type": "code",
   "execution_count": 31,
   "id": "8aa1a6c7-600b-44ab-bcb9-4d1a430234b2",
   "metadata": {},
   "outputs": [],
   "source": [
    "text_content = '''example 1 \n",
    "example 2\n",
    "example 3'''"
   ]
  },
  {
   "cell_type": "code",
   "execution_count": 33,
   "id": "8f1868b7-70fe-4b7e-b680-cebb43732217",
   "metadata": {},
   "outputs": [],
   "source": [
    "with open(\"example.txt\", \"w\") as file:\n",
    "    file.write(text_content)"
   ]
  },
  {
   "cell_type": "markdown",
   "id": "9cd9daf1-f444-4ab5-9f4c-d3aa99cf0db8",
   "metadata": {},
   "source": [
    "It's **safer** than manually opening and closing files because it prevents resource leaks."
   ]
  },
  {
   "cell_type": "markdown",
   "id": "977c46c3-286d-4517-acd9-2f4680c9d773",
   "metadata": {},
   "source": [
    "### 9. What is the difference between multithreading and multiprocessing?"
   ]
  },
  {
   "cell_type": "markdown",
   "id": "a10b18ac-d842-48d4-9f93-b1c21c15ecce",
   "metadata": {},
   "source": [
    "- **Multithreading**: Runs multiple threads **within the same process**, ideal for tasks that involve **I/O-bound operations** (network requests, file handling).\n",
    "- **Multiprocessing**: Runs multiple processes, each with its own memory space, making it better for **CPU-bound tasks** (heavy computations)."
   ]
  },
  {
   "cell_type": "code",
   "execution_count": 37,
   "id": "e620b3a6-a2cb-4607-8294-29d2f6e617a4",
   "metadata": {},
   "outputs": [],
   "source": [
    "import threading, multiprocessing"
   ]
  },
  {
   "cell_type": "markdown",
   "id": "a4fc9ade-45ba-478f-ab33-185b2184e757",
   "metadata": {},
   "source": [
    "### 10. What are the advantages of using logging in a program?"
   ]
  },
  {
   "cell_type": "markdown",
   "id": "d4b4d2b6-4ebb-41f4-922c-145e16ed6187",
   "metadata": {},
   "source": [
    "- **Better Debugging**: Helps track issues.\n",
    "- **Multiple Levels**: Allows filtering messages (`DEBUG`, `INFO`, `WARNING`, etc.).\n",
    "- **Persistent Storage**: Logs can be saved to files.\n",
    "- **Structured Reporting**: Easier analysis than scattered `print()` statements."
   ]
  },
  {
   "cell_type": "markdown",
   "id": "b41604ff-5ea6-42cf-9662-9921f9128523",
   "metadata": {},
   "source": [
    "### 11. What is memory management in Python?"
   ]
  },
  {
   "cell_type": "markdown",
   "id": "f48f8af4-69ac-4dad-9a12-445bebc4f8a6",
   "metadata": {},
   "source": [
    "Memory management in Python refers to the process of allocating and deallocating memory to objects dynamically. Python uses **automatic memory management** and a **garbage collector** to free unused memory."
   ]
  },
  {
   "cell_type": "code",
   "execution_count": 6,
   "id": "7d0f4954-c9f4-4438-8316-50ef037185e5",
   "metadata": {},
   "outputs": [
    {
     "name": "stdout",
     "output_type": "stream",
     "text": [
      "When `del x` is executed, Python removes the reference to the list, allowing garbage collection to free memory.\n"
     ]
    }
   ],
   "source": [
    "x = [1, 2, 3]  # Memory allocated for a list\n",
    "del x  # Memory deallocated\n",
    "print(\"When `del x` is executed, Python removes the reference to the list, allowing garbage collection to free memory.\")"
   ]
  },
  {
   "cell_type": "markdown",
   "id": "aac3013f-3983-40bc-ae9b-9a66fc52f627",
   "metadata": {},
   "source": [
    "### 12. What are the basic steps involved in exception handling in Python?"
   ]
  },
  {
   "cell_type": "markdown",
   "id": "21a6c5c2-cd17-4586-9bdc-927eb767732c",
   "metadata": {},
   "source": [
    "Exception handling in Python involves:\n",
    "1. **Try**: Wrap code that may cause an error.\n",
    "2. **Except**: Handle the error if it occurs.\n",
    "3. **Else**: Run code if no error occurs.\n",
    "4. **Finally**: Execute cleanup code regardless of error occurrence."
   ]
  },
  {
   "cell_type": "code",
   "execution_count": 9,
   "id": "7f5646ac-a39f-4be8-b255-52fc59636b80",
   "metadata": {},
   "outputs": [
    {
     "name": "stdin",
     "output_type": "stream",
     "text": [
      "Enter a number:  sfoha\n"
     ]
    },
    {
     "name": "stdout",
     "output_type": "stream",
     "text": [
      "Invalid input! Please enter a number.\n",
      "Execution completed.\n"
     ]
    }
   ],
   "source": [
    "try:\n",
    "    num = int(input(\"Enter a number: \"))\n",
    "    print(\"You entered:\", num)\n",
    "except ValueError:\n",
    "    print(\"Invalid input! Please enter a number.\")\n",
    "else:\n",
    "    print(\"Successful execution.\")\n",
    "finally:\n",
    "    print(\"Execution completed.\")"
   ]
  },
  {
   "cell_type": "markdown",
   "id": "7bb16e40-b9a8-4d9a-b2b9-bbf0413039c5",
   "metadata": {},
   "source": [
    "### 13. Why is memory management important in Python?"
   ]
  },
  {
   "cell_type": "markdown",
   "id": "0d75dd49-272f-474a-9111-efa4633cdf9f",
   "metadata": {},
   "source": [
    "Efficient memory management ensures **optimized resource utilization, prevents memory leaks**, and enhances program performance."
   ]
  },
  {
   "cell_type": "code",
   "execution_count": 14,
   "id": "14245c4c-64ec-4599-9b16-703de585963d",
   "metadata": {},
   "outputs": [
    {
     "name": "stdout",
     "output_type": "stream",
     "text": [
      "Memory used by x: 8448728 bytes\n"
     ]
    }
   ],
   "source": [
    "import sys\n",
    "\n",
    "x = [i for i in range(1000000)]  # Large list\n",
    "print(\"Memory used by x:\", sys.getsizeof(x), \"bytes\")\n",
    "del x  # Free memory after use"
   ]
  },
  {
   "cell_type": "markdown",
   "id": "298f0e28-ef0a-465f-a064-f316b35b5fc7",
   "metadata": {},
   "source": [
    "After deletion, the memory is freed, preventing unnecessary usage."
   ]
  },
  {
   "cell_type": "markdown",
   "id": "c94ed4cf-fa7b-4c40-9497-1bf17098c73f",
   "metadata": {},
   "source": [
    "### 14. What is the role of try and except in exception handling?"
   ]
  },
  {
   "cell_type": "markdown",
   "id": "55b81caf-b65a-4c39-86a6-9dbd7e4257d6",
   "metadata": {},
   "source": [
    "The `try` block detects potential errors, and the `except` block handles them gracefully, preventing **program crashes**."
   ]
  },
  {
   "cell_type": "code",
   "execution_count": 21,
   "id": "6b5db5e0-903a-4233-94f0-b971d71ef171",
   "metadata": {},
   "outputs": [
    {
     "name": "stdout",
     "output_type": "stream",
     "text": [
      "Error: division by zero\n"
     ]
    }
   ],
   "source": [
    "try:\n",
    "    result = 10 / 0  # Division by zero\n",
    "except Exception as e:\n",
    "    print(\"Error:\", e)"
   ]
  },
  {
   "cell_type": "markdown",
   "id": "df658303-f4e2-4fa2-af39-fc07734a923d",
   "metadata": {},
   "source": [
    "### 15. How does Python's garbage collection system work?"
   ]
  },
  {
   "cell_type": "markdown",
   "id": "da51f563-cdc8-493b-a648-f3a95d181378",
   "metadata": {},
   "source": [
    "Python uses **automatic garbage collection**, which removes unused objects to free memory. It works based on **reference counting** and **cyclic garbage collection**."
   ]
  },
  {
   "cell_type": "code",
   "execution_count": 25,
   "id": "82afc61f-a1f8-497d-83f2-411f82f8c691",
   "metadata": {},
   "outputs": [
    {
     "data": {
      "text/plain": [
       "0"
      ]
     },
     "execution_count": 25,
     "metadata": {},
     "output_type": "execute_result"
    }
   ],
   "source": [
    "import gc\n",
    "\n",
    "class Example:\n",
    "    def __del__(self):\n",
    "        print(\"Object deleted!\")\n",
    "\n",
    "obj1 = Example()\n",
    "obj2 = obj1  # Reference count increases\n",
    "del obj1  # Memory not freed, as obj2 still references it\n",
    "gc.collect()  # Force garbage collection"
   ]
  },
  {
   "cell_type": "markdown",
   "id": "e71f75f5-563c-4835-8134-a1f3e2334852",
   "metadata": {},
   "source": [
    "The `gc.collect()` function forces garbage collection, removing unreferenced objects."
   ]
  },
  {
   "cell_type": "markdown",
   "id": "7670ed6e-7de9-4bbd-b1ef-0e0c1927930c",
   "metadata": {},
   "source": [
    "### 16. What is the purpose of the else block in exception handling?"
   ]
  },
  {
   "cell_type": "markdown",
   "id": "a33ee023-b048-4e21-a8b3-d7c9ef474ea0",
   "metadata": {},
   "source": [
    "In Python, the `else` block in a `try-except` statement executes when no exception is raised in the `try` block. It helps separate the code that should run only if there are no errors."
   ]
  },
  {
   "cell_type": "code",
   "execution_count": 3,
   "id": "326ce720-ea90-45e7-9917-4e2b3ca6f55b",
   "metadata": {},
   "outputs": [
    {
     "name": "stdout",
     "output_type": "stream",
     "text": [
      "Division successful: 5.0\n"
     ]
    }
   ],
   "source": [
    "try:\n",
    "    result = 10 / 2  # No exception occurs\n",
    "except ZeroDivisionError:\n",
    "    print(\"Cannot divide by zero.\")\n",
    "else:\n",
    "    print(\"Division successful:\", result)"
   ]
  },
  {
   "cell_type": "markdown",
   "id": "3e658d90-9eb2-4137-bbf2-9f8916ee0f6e",
   "metadata": {},
   "source": [
    "### 17. What are the common logging levels in Python?"
   ]
  },
  {
   "cell_type": "markdown",
   "id": "34a1bc93-e320-4c7f-a83c-12ba1d937faa",
   "metadata": {},
   "source": [
    "   The logging module in Python provides several levels of severity for log messages:\n",
    "   - `DEBUG`: Detailed diagnostic information.\n",
    "   - `INFO`: General information about program execution.\n",
    "   - `WARNING`: Indicates something unexpected but non-critical.\n",
    "   - `ERROR`: A serious issue that prevents part of the program from running.\n",
    "   - `CRITICAL`: A fatal error that causes the program to stop."
   ]
  },
  {
   "cell_type": "markdown",
   "id": "d09cca0a-ef9f-48be-8b60-39a23868d974",
   "metadata": {},
   "source": [
    "### 18. What is the difference between os.fork() and multiprocessing in Python?"
   ]
  },
  {
   "cell_type": "markdown",
   "id": "3dac9380-7292-4a53-93ae-5891c8afdc5e",
   "metadata": {},
   "source": [
    "- `os.fork()`: Used in Unix-based systems, it creates a child process by duplicating the current process.\n",
    "- `multiprocessing`: A cross-platform module that allows process-based parallelism, making it more portable and feature-rich than `fork()`.  \n",
    "`multiprocessing` is preferred for creating multiple processes efficiently across different OS environments."
   ]
  },
  {
   "cell_type": "markdown",
   "id": "5bd5b110-0b63-45df-8400-f700f3415a46",
   "metadata": {},
   "source": [
    "### 19. What is the importance of closing a file in Python?"
   ]
  },
  {
   "cell_type": "markdown",
   "id": "ffe4a516-af0e-4d12-9d3a-395889bbcc4a",
   "metadata": {},
   "source": [
    "Closing a file ensures that changes are saved and resources are freed. If a file isn't closed, data may be lost or corrupted, and too many open files can lead to resource exhaustion. Always use `file.close()` or a `with open(...) as f:` block for automatic closing."
   ]
  },
  {
   "cell_type": "markdown",
   "id": "51be0b44-eb79-4117-8f9f-f0b931aa6586",
   "metadata": {},
   "source": [
    "### 20. What is the difference between file.read() and file.readline() in Python?"
   ]
  },
  {
   "cell_type": "markdown",
   "id": "baab4760-ce49-4931-ac17-f82ac39b2cd2",
   "metadata": {},
   "source": [
    "- `file.read()`: Reads the entire file or a specific number of bytes at once.  \n",
    "- `file.readline()`: Reads only one line at a time.  "
   ]
  },
  {
   "cell_type": "code",
   "execution_count": 27,
   "id": "3a7f0366-aa56-4e56-9bd5-080c35b84cb4",
   "metadata": {},
   "outputs": [
    {
     "name": "stdout",
     "output_type": "stream",
     "text": [
      "example 1 \n",
      "example 2\n",
      "\n",
      "\n"
     ]
    }
   ],
   "source": [
    "with open(\"example.txt\", \"r\") as file:\n",
    "    print(file.read(20))  # Reads first 20 bytes\n",
    "    print(file.readline())  # Reads the next line"
   ]
  },
  {
   "cell_type": "markdown",
   "id": "993bb63c-f1d7-4317-861a-c69536824997",
   "metadata": {},
   "source": [
    "### 21. What is the logging module in Python used for?"
   ]
  },
  {
   "cell_type": "markdown",
   "id": "80188d88-b6cd-4a21-bf99-3adc9ec78ae4",
   "metadata": {},
   "source": [
    "The `logging` module in Python is used for tracking events that happen while the software runs. It helps developers debug and analyze the behavior of a program by logging messages with different severity levels (DEBUG, INFO, WARNING, ERROR, CRITICAL). Instead of using `print()`, logging provides a more sophisticated way to manage and record program flow.|"
   ]
  },
  {
   "cell_type": "markdown",
   "id": "a045945a-0495-4906-add2-d6859bd88046",
   "metadata": {},
   "source": [
    "### 22. What is the os module in Python used for in file handling?"
   ]
  },
  {
   "cell_type": "markdown",
   "id": "b478b461-a07c-42f5-87d3-5a3057de4f92",
   "metadata": {},
   "source": [
    "The `os` module allows interaction with the operating system. In file handling, it's particularly useful for tasks such as:\n",
    "   - Checking file existence (`os.path.exists()`)\n",
    "   - Renaming and deleting files (`os.rename()`, `os.remove()`)\n",
    "   - Navigating directories (`os.listdir()`, `os.getcwd()`)\n",
    "   - Creating directories (`os.makedirs()`)\n",
    "   - Accessing environment variables (`os.environ`)"
   ]
  },
  {
   "cell_type": "markdown",
   "id": "90659656-435e-449c-814b-8eba2c991933",
   "metadata": {},
   "source": [
    "### 23. What are the challenges associated with memory management in Python?"
   ]
  },
  {
   "cell_type": "markdown",
   "id": "06010d58-9fd0-4003-aa37-2b2f1d31f920",
   "metadata": {},
   "source": [
    "Python uses automatic memory management with **garbage collection**, but it comes with challenges:\n",
    "   - **High memory consumption**: Due to dynamic typing and object overhead.\n",
    "   - **Garbage collection performance**: Can introduce delays when cleaning up unused objects.\n",
    "   - **Circular references**: Python’s garbage collector may struggle with objects that reference each other.\n",
    "   - **Global Interpreter Lock (GIL)**: Can limit multi-threaded execution efficiency."
   ]
  },
  {
   "cell_type": "markdown",
   "id": "dcbb4602-0b39-42f5-86bc-0b3a5684654d",
   "metadata": {},
   "source": [
    "### 24. How do you raise an exception manually in Python?"
   ]
  },
  {
   "cell_type": "markdown",
   "id": "f0c54c12-f128-4327-9c26-26ce301bed38",
   "metadata": {},
   "source": [
    "We can manually raise exceptions in Python using the `raise` keyword."
   ]
  },
  {
   "cell_type": "code",
   "execution_count": 10,
   "id": "a0d728d1-13fe-4490-9015-3fd9fe701471",
   "metadata": {},
   "outputs": [
    {
     "ename": "ValueError",
     "evalue": "Invalid input provided",
     "output_type": "error",
     "traceback": [
      "\u001b[31m---------------------------------------------------------------------------\u001b[39m",
      "\u001b[31mValueError\u001b[39m                                Traceback (most recent call last)",
      "\u001b[36mCell\u001b[39m\u001b[36m \u001b[39m\u001b[32mIn[10]\u001b[39m\u001b[32m, line 2\u001b[39m\n\u001b[32m      1\u001b[39m \u001b[38;5;66;03m#Example:\u001b[39;00m\n\u001b[32m----> \u001b[39m\u001b[32m2\u001b[39m \u001b[38;5;28;01mraise\u001b[39;00m \u001b[38;5;167;01mValueError\u001b[39;00m(\u001b[33m\"\u001b[39m\u001b[33mInvalid input provided\u001b[39m\u001b[33m\"\u001b[39m)\n",
      "\u001b[31mValueError\u001b[39m: Invalid input provided"
     ]
    }
   ],
   "source": [
    "#Example:\n",
    "raise ValueError(\"Invalid input provided\")"
   ]
  },
  {
   "cell_type": "markdown",
   "id": "1205c4a7-f298-4a4f-b508-ba5e0d8d6c04",
   "metadata": {},
   "source": [
    "### 25. Why is it important to use multithreading in certain applications?"
   ]
  },
  {
   "cell_type": "markdown",
   "id": "14dcdc45-cff5-48e3-b9c7-9b7764bac94e",
   "metadata": {},
   "source": [
    "Multithreading is useful in applications that require:\n",
    "   - **Concurrency**: Allows multiple tasks to run simultaneously.\n",
    "   - **Responsiveness**: Keeps applications responsive, such as in GUI programs.\n",
    "   - **Efficient I/O operations**: File handling, networking, and database access benefit from multithreading.\n",
    "   - **Parallel execution** (with limitations due to GIL in CPython)."
   ]
  }
 ],
 "metadata": {
  "kernelspec": {
   "display_name": "Python 3 (ipykernel)",
   "language": "python",
   "name": "python3"
  },
  "language_info": {
   "codemirror_mode": {
    "name": "ipython",
    "version": 3
   },
   "file_extension": ".py",
   "mimetype": "text/x-python",
   "name": "python",
   "nbconvert_exporter": "python",
   "pygments_lexer": "ipython3",
   "version": "3.12.7"
  }
 },
 "nbformat": 4,
 "nbformat_minor": 5
}
